{
  "nbformat": 4,
  "nbformat_minor": 0,
  "metadata": {
    "colab": {
      "provenance": []
    },
    "kernelspec": {
      "name": "python3",
      "display_name": "Python 3"
    },
    "language_info": {
      "name": "python"
    }
  },
  "cells": [
    {
      "cell_type": "markdown",
      "source": [
        "***Py ALGORITHM BEST 20*** <br/>\n",
        "https://pyalgo.co.kr/"
      ],
      "metadata": {
        "id": "XF5sDQ_66pZS"
      }
    },
    {
      "cell_type": "markdown",
      "source": [
        "## **1번**"
      ],
      "metadata": {
        "id": "ENk_uCI66nhH"
      }
    },
    {
      "cell_type": "code",
      "execution_count": 11,
      "metadata": {
        "id": "tUtEmXpc2e_Z"
      },
      "outputs": [],
      "source": [
        "def solution(data):\n",
        "    for i in range(0,len(data)):\n",
        "        data[i] = data[i].replace(' ','').replace('+','1').replace('-','0')\n",
        "        \n",
        "    result = ''\n",
        "    for string in data:\n",
        "        result += chr(int(string, 2))\n",
        "        \n",
        "    return result"
      ]
    },
    {
      "cell_type": "code",
      "source": [
        "test1 = [' + - - + - + - ', ' + + + - + - + ', ' + + - + + + - ']\n",
        "solution(test1)"
      ],
      "metadata": {
        "colab": {
          "base_uri": "https://localhost:8080/",
          "height": 35
        },
        "id": "PW412JY46jV6",
        "outputId": "257299d1-9f4f-4143-c3d9-208e1b600202"
      },
      "execution_count": 12,
      "outputs": [
        {
          "output_type": "execute_result",
          "data": {
            "text/plain": [
              "'Jun'"
            ],
            "application/vnd.google.colaboratory.intrinsic+json": {
              "type": "string"
            }
          },
          "metadata": {},
          "execution_count": 12
        }
      ]
    },
    {
      "cell_type": "code",
      "source": [
        "test2 = [' + + + - - + + ', ' + + + - + - - ', '++----+', '+++ --+ -', '+++-+ - -']\t\n",
        "solution(test2)"
      ],
      "metadata": {
        "colab": {
          "base_uri": "https://localhost:8080/",
          "height": 35
        },
        "id": "Ji6A7fp46k0H",
        "outputId": "6036e74e-af34-402d-a53f-195d72877044"
      },
      "execution_count": 14,
      "outputs": [
        {
          "output_type": "execute_result",
          "data": {
            "text/plain": [
              "'start'"
            ],
            "application/vnd.google.colaboratory.intrinsic+json": {
              "type": "string"
            }
          },
          "metadata": {},
          "execution_count": 14
        }
      ]
    },
    {
      "cell_type": "code",
      "source": [
        "test3 = [' + + - - - - + ', ' + + - + + - - ', '+ +-- +++ ', ' ++- ++++']\n",
        "solution(test3)"
      ],
      "metadata": {
        "colab": {
          "base_uri": "https://localhost:8080/",
          "height": 35
        },
        "id": "qWUmRTNl6leh",
        "outputId": "0a2d113d-9cbc-451e-814c-ef8dcba67cee"
      },
      "execution_count": 15,
      "outputs": [
        {
          "output_type": "execute_result",
          "data": {
            "text/plain": [
              "'algo'"
            ],
            "application/vnd.google.colaboratory.intrinsic+json": {
              "type": "string"
            }
          },
          "metadata": {},
          "execution_count": 15
        }
      ]
    }
  ]
}