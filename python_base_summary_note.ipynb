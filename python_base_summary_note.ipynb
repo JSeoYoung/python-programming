{
  "nbformat": 4,
  "nbformat_minor": 0,
  "metadata": {
    "colab": {
      "provenance": [],
      "toc_visible": true
    },
    "kernelspec": {
      "name": "python3",
      "display_name": "Python 3"
    },
    "language_info": {
      "name": "python"
    }
  },
  "cells": [
    {
      "cell_type": "markdown",
      "source": [
        "# ***Colab 단축키***"
      ],
      "metadata": {
        "id": "WnyNVqhgOQLg"
      }
    },
    {
      "cell_type": "markdown",
      "source": [
        "1. **실행 단축키**\n",
        "    1. (필수) `Ctrl(Command)` + `Enter` : 해당 셀 실행\n",
        "    2. `Shift` + `Enter` : 해당 셀 실행 + 커서를 다음 셀로 이동\n",
        "    3. (필수) `Alt(Option)` + `Enter` : 해당 셀 실행 + 코드 불록 하단 추가 (일부 맥북의 경우 `fn` + `option` + `Enter`)\n",
        "2. **셀 삽입/삭제 관련 단축키**\n",
        "    1. `Ctrl(Command)` + M A : 코드 셀 위에 삽입\n",
        "    2. `Ctrl(Command)` + M B : 코드 셀 아래 삽입\n",
        "    3. `Ctrl(Command)` + M D : 셀 지우기\n",
        "    4. `Ctrl(Command)` + M Y : 코드 셀로 변경\n",
        "    5. `Ctrl(Command)` + M M : 마크다운 셀로 변경\n",
        "    6. `Ctrl(Command)` + M Z : 실행 취소\n",
        "3. 수정 관련된 단축키\n",
        "    1. `Ctrl(Command)` + `Alt(Option)` + 화살표위아래 : 동시 수정\n",
        "    2. (자주) `Ctrl(Command)` + D : 같은 단어 찾아 동시 수정\n",
        "    3. `Ctrl(Command)` + `Shift` + L : 동일 단어를 전체로 찾아 동시 수정\n",
        "    4. `Alt(Option)` + `Shift` + 화살표위아래 : 해당내용을 위나 아래 복사해서 붙여넣기\n",
        "    5. `Alt(Option)` + 화살표위아래 : 해당 내용을 위나 아래로 보내기\n",
        "    6. (자주) `Ctrl` + `Alt` + 화살표위아래 : 위아래 동시 수정\n",
        "    7. (자주) Home, End : 문장의 양 끝\n",
        "    8. (필수) `Ctrl` + `/` : 주석\n",
        "    9. (필수) `Ctrl` + `Del` : 한 줄 지우기\n",
        "    10. (필수) `Tab`, `Ctrl` + `]` : 들여쓰기\n",
        "    11. (필수) `Shift` + `Tab`, `Ctrl` + `[` : 내어쓰기\n",
        "4. 단축키 보기 및 설정\n",
        "    1. `Ctrl(Command)` + M H : 단축키 모음\n",
        "\n",
        "\n",
        "참고\n",
        "* `Ctrl` + `Alt` + 화살표위아래 : 글의 열 선택 -> `Delete` : 글의 선택된 열이 하나씩 삭제됨"
      ],
      "metadata": {
        "id": "3LHtUgXUOVSr"
      }
    },
    {
      "cell_type": "markdown",
      "source": [
        "# ***목차***\n",
        "\n",
        "## **CH1. 파이썬 기초**\n",
        "* 주석\n",
        "* 변수: 속성, Type / int, float, str\n",
        "* 입력과 출력\n",
        "* 형변환\n",
        "\n",
        "## **CH2. 연산**\n",
        "* 연산 우선순위\n",
        "* 산술연산: +, -, \\*, **, /, //, %  \n",
        "* 비교연산: >, <, >=, <=, ==, !=\n",
        "* 논리연산: and, or, not\n",
        "* 비트연산: &, |, ^, ~, <<, >>\n",
        "* 할당연산: =, +=, -=, ...\n",
        "* 식별연산: is, is not\n",
        "* 멤버연산: in, not in\n",
        "\n",
        "## **CH3. 함수**\n",
        "* 함수 기본 개념\n",
        "* 지역 변수와 전역 변수\n",
        "* 재귀함수 (recursion)\n",
        "\n",
        "## **CH4. 리스트, 튜플, 딕셔너리, 셋**\n",
        "* list (리스트)\n",
        "* tuple (튜플)\n",
        "* dict (딕셔너리)\n",
        "* set (셋)\n",
        "\n",
        "\n",
        "## **CH5.**\n",
        "\n",
        "## **CH6.**\n",
        "\n",
        "## **CH7.**"
      ],
      "metadata": {
        "id": "8-qmUk9BHmCV"
      }
    },
    {
      "cell_type": "markdown",
      "source": [
        "# **ㅡㅡㅡㅡChapter 1ㅡㅡㅡㅡ**"
      ],
      "metadata": {
        "id": "5cNnwOyV_qsS"
      }
    },
    {
      "cell_type": "markdown",
      "source": [
        "# ***CH1-1. 주석***"
      ],
      "metadata": {
        "id": "s4lcM0JcMi07"
      }
    },
    {
      "cell_type": "code",
      "execution_count": null,
      "metadata": {
        "id": "OTQD14c0MamP"
      },
      "outputs": [],
      "source": [
        "# 주석: 코드를 보류하거나\n",
        "# 해당 코드에 대한 설명을 할 경우\n",
        "\n",
        "# 행 단위 주석\n",
        "\n",
        "# 열\n",
        "# 단위\n",
        "# 주석\n",
        "\n",
        "'''\n",
        "열\n",
        "단위\n",
        "주석\n",
        "'''"
      ]
    },
    {
      "cell_type": "markdown",
      "source": [
        "# ***CH1-2. 변수***"
      ],
      "metadata": {
        "id": "hHfAJK_hMtwx"
      }
    },
    {
      "cell_type": "markdown",
      "source": [
        "## **변수의 속성**"
      ],
      "metadata": {
        "id": "Zsu3nWYPqSdM"
      }
    },
    {
      "cell_type": "markdown",
      "source": [
        "* 영문과 숫자를 사용할 수 있지만, 숫자로 시작하지는 못한다.\n",
        "* 특수문자는 사용하지 않아요(언더바(_)는 사용한다. 스네이크 표기법, 특수문자나 이미 사용 가능한 것들이 있기는 하지만 권하지 않는다.)\n",
        "* 예약어는 사용하지 않습니다.(if, elif, while, for, etc)\n",
        "* 대소문자는 구분한다.\n",
        "* 언더바로만 사용하거나 언더바로 시작할 수 있다.\n",
        "* 대문자로 시작하는 변수를 사용할 수 있지만, 관습적으로 대문자로 시작하는 변수는 Class로 만들기 때문에 소문자로 시작하는 변수를 만들기를 권한다.Class는 보통 파스칼 표기법을 따르지만, 회사 컨벤션마다 다르다."
      ],
      "metadata": {
        "id": "zO-JZGKADu0s"
      }
    },
    {
      "cell_type": "code",
      "source": [
        "## 변수 이름 설정 ##\n",
        "hello_world = 10    # 스네이크 표기법이 컨벤션으로 있는 경우가 많음\n",
        "helloWorld = 10     # 카멜 표기법(JavaScript에서 많이 사용)\n",
        "hello1 = 100\n",
        "\n",
        "# 1hello = 100      # error\n",
        "# π = 3.14         # error가 안나지만 사회생활 힘듦\n",
        "# π * 100\n",
        "_ = 100             # 권장하지 않는다.\n",
        "\n",
        "# 아래와 같이 반복 안에서 해당 변수를 전혀 사용하지 않는 경우\n",
        "# (관습적으로) 많이 사용된다.\n",
        "for _ in range(10):\n",
        "    print('hello')"
      ],
      "metadata": {
        "id": "BZy3RjqNWQcK"
      },
      "execution_count": null,
      "outputs": []
    },
    {
      "cell_type": "code",
      "source": [
        "## 변수의 속성 변경 ##\n",
        "print(int('10') + int('10'))    # 결과값: 20\n",
        "\n",
        "class int(int):\n",
        "    def __add__(self, a):\n",
        "        return self * a\n",
        "print(int('10') + int('10'))    # 결과값: 100\n",
        "\n",
        "class int(int):\n",
        "    def __add__(self, a):\n",
        "        return 'leehojun'\n",
        "print(int('10') + int('10'))    # 결과값: 'leehojun'"
      ],
      "metadata": {
        "id": "kbBl_AFZWv6i"
      },
      "execution_count": null,
      "outputs": []
    },
    {
      "cell_type": "markdown",
      "source": [
        "## **변수의 Type**\n"
      ],
      "metadata": {
        "id": "3tvB4wraBhL-"
      }
    },
    {
      "cell_type": "markdown",
      "source": [
        "* 변수의 타입은 왜 있는 것일까?\n",
        "    * 효율적인 측면\n",
        "    * 관리적인 측면\n",
        "\n",
        "* 숫자 자료형\n",
        "\n",
        "![image.png](data:image/png;base64,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)\n",
        "\n",
        "* 시퀀스 자료형\n",
        "    * 각 요소들은 해당하는 Index 값을 가짐\n",
        "    * 문자열, 리스트, 튜플이 해당\n",
        "    * 딕셔너리랑 셋은 포함X"
      ],
      "metadata": {
        "id": "cyVoaFnIEIJc"
      }
    },
    {
      "cell_type": "code",
      "source": [
        "def hello():\n",
        "    return\n",
        "\n",
        "class A:\n",
        "    pass\n",
        "\n",
        "a = 10      # int, 정수형\n",
        "b = 10.1    # float, 실수\n",
        "c = -1\n",
        "d = True    # bool, 논리형(부울형, 참거짓형)\n",
        "e = 'good'\n",
        "f = '10'    # str, 문자열\n",
        "g = 'kim'\n",
        "h = 'honggildong'\n",
        "i = 'example'\n",
        "j = 10 + 2j # complex, 복소수\n",
        "k = 0b110   # int, 2진법 \n",
        "l = 0o56    # int, 8진법\n",
        "m = 0xAC    # int, 16진법\n",
        "\n",
        "##########\n",
        "n = hello           # function\n",
        "o = print           # bulit-in function\n",
        "p = lambda x:x**2   # function\n",
        "q = A               # class\n",
        "r = A()             # instance\n",
        "##########\n",
        "\n",
        "print('type(10) : ', type(a))\n",
        "print('type(10.1) : ', type(b))\n",
        "print('type(-1) : ', type(c))\n",
        "print('type(True) : ', type(d))\n",
        "print('type(\\'good\\') : ', type(e))\n",
        "print('\\'10\\' + \\'10\\' : ', f + f)\n",
        "print('\\'10\\' * 3', f * 3)\n",
        "print('\\'hong\\' + \\'gildong\\'', g + h)\n",
        "print('type(\\'gildong\\') : ', type(h))\n",
        "print('type(\\'gildong100!!\\') : ', type(i))\n",
        "print('type(10 + 2j) : ', type(j))\n",
        "print('type(0b110) : ', type(k))\n",
        "print(k)\n",
        "print('type(0o56) : ', type(i))\n",
        "print(i)\n",
        "print('type(0xAC) : ', type(m))\n",
        "print(m)\n",
        "print(q, r)"
      ],
      "metadata": {
        "id": "LyX3OZWBSQ4E"
      },
      "execution_count": null,
      "outputs": []
    },
    {
      "cell_type": "markdown",
      "source": [
        "## **int (정수형)**"
      ],
      "metadata": {
        "id": "VTJTYss7M4nA"
      }
    },
    {
      "cell_type": "code",
      "source": [
        "a = 10\n",
        "type(a)"
      ],
      "metadata": {
        "id": "4lOW2VsvMxWx"
      },
      "execution_count": null,
      "outputs": []
    },
    {
      "cell_type": "code",
      "source": [
        "dir(a)"
      ],
      "metadata": {
        "id": "5kOW8gL7NAFo"
      },
      "execution_count": null,
      "outputs": []
    },
    {
      "cell_type": "markdown",
      "source": [
        "* **진법**"
      ],
      "metadata": {
        "id": "U-_P0yIwNSKp"
      }
    },
    {
      "cell_type": "code",
      "source": [
        "a = 0b110   # int, 2진법, 0과 1 (숫자를 2개만 쓰는 것)\n",
        "b = 0o56    # int, 8진법, 0 ~ 7 (숫자를 8개만 쓰는 것)\n",
        "c = 0xAC    # int, 16진법, 0 ~ 9, A ~ F (숫자를 10개만 쓰는 것)\n",
        "\n",
        "# 287 == (10^2) * 2 + (10^1) * 8 + (10^0) * 7                   # 10진법\n",
        "# 110 == (2^2) * 1 + (2^1) * 1 + (2^0) * 0 => 4 + 2 + 0 => 6    # 2진법\n",
        "# AC == (16^1) * A + (16^0) * C => 160 + 12 => 172\n",
        "\n",
        "print(type(a), type(b), type(c))\n",
        "print(a, b, c)\n",
        "print(bin(6), oct(46), hex(172))"
      ],
      "metadata": {
        "id": "EhJq1BB8NA2K"
      },
      "execution_count": null,
      "outputs": []
    },
    {
      "cell_type": "markdown",
      "source": [
        "* **형변환**"
      ],
      "metadata": {
        "id": "BDfFgQemPf48"
      }
    },
    {
      "cell_type": "code",
      "source": [
        "int('100') + int('100')     # 형 변환"
      ],
      "metadata": {
        "id": "coiKlxx1NfvC"
      },
      "execution_count": null,
      "outputs": []
    },
    {
      "cell_type": "code",
      "source": [
        "int('0b110', 2), int('0o56', 8), int('0xac', 16)\n",
        "# int('110', 2), int('56', 8), int('ac', 16)        # 결과값 같음"
      ],
      "metadata": {
        "id": "lHFCJmxANiAd"
      },
      "execution_count": null,
      "outputs": []
    },
    {
      "cell_type": "markdown",
      "source": [
        "* **참고**"
      ],
      "metadata": {
        "id": "zbVp0i8RTDCq"
      }
    },
    {
      "cell_type": "code",
      "source": [
        "# Python은 자체적으로 속도를 높이기 위한 여러가지 노력들을 해왔다.\n",
        "# 그래서 -5 ~ 256은 먼저 메모리에 적재한다.\n",
        "\n",
        "a = -5\n",
        "b = -5\n",
        "c = -6\n",
        "d = -6\n",
        "e = 256\n",
        "f = 256\n",
        "\n",
        "print(a is b)   # 결과값: True\n",
        "print(c is d)   # 결과값: False\n",
        "print(e is f)   # 결과값: True"
      ],
      "metadata": {
        "id": "5Ynj7-BBTE7u"
      },
      "execution_count": null,
      "outputs": []
    },
    {
      "cell_type": "markdown",
      "source": [
        "## **float (실수)**"
      ],
      "metadata": {
        "id": "JClIO4hNN3Yd"
      }
    },
    {
      "cell_type": "code",
      "source": [
        "a = 10.1\n",
        "type(a)"
      ],
      "metadata": {
        "id": "00ilPJ_VN71e"
      },
      "execution_count": null,
      "outputs": []
    },
    {
      "cell_type": "code",
      "source": [
        "dir(a)"
      ],
      "metadata": {
        "id": "OMLQKY7GN8z4"
      },
      "execution_count": null,
      "outputs": []
    },
    {
      "cell_type": "code",
      "source": [
        "type(10 + 10.1)     # 다른 언어는 error..."
      ],
      "metadata": {
        "id": "GdsEqbZhFa7X"
      },
      "execution_count": null,
      "outputs": []
    },
    {
      "cell_type": "markdown",
      "source": [
        "* **부동소수점 오차 발생**"
      ],
      "metadata": {
        "id": "xSq9cqvFZoMy"
      }
    },
    {
      "cell_type": "code",
      "source": [
        "# (모든 언어 공통) 2진법으로 변환했을 때 무한대수가 발생한다.\n",
        "0.1 + 0.2   # 결과값: 0.30000000000000004"
      ],
      "metadata": {
        "id": "ARhDdKwAZx-b"
      },
      "execution_count": null,
      "outputs": []
    },
    {
      "cell_type": "markdown",
      "source": [
        "* **무리수, 오일러 수**"
      ],
      "metadata": {
        "id": "8MTS65NbSifO"
      }
    },
    {
      "cell_type": "code",
      "source": [
        "# 무리수, 오일러 수(e/E, 2.718에 수렴, 파이가 3.14인 것처럼)\n",
        "print(2.3e3)\n",
        "print(2.3E3)\n",
        "print(2.3 * (10 ** 3))\n",
        "\n",
        "print(2.3e-3) \n",
        "print(2.3E-3)\n",
        "print(2.3 * (10 ** -3))\n",
        "\n",
        "type(2.3e3)"
      ],
      "metadata": {
        "id": "SSL-9E1NSnMD"
      },
      "execution_count": null,
      "outputs": []
    },
    {
      "cell_type": "markdown",
      "source": [
        "## **str (문자열)**"
      ],
      "metadata": {
        "id": "uc4Sp9JsOC94"
      }
    },
    {
      "cell_type": "markdown",
      "source": [
        "* 순서가 있습니다.\n",
        "* 순회가 가능합니다."
      ],
      "metadata": {
        "id": "-QfGth05fygz"
      }
    },
    {
      "cell_type": "code",
      "source": [
        "a = 'Hello World'\n",
        "type(a)"
      ],
      "metadata": {
        "id": "_iRwWPYVOE8e"
      },
      "execution_count": null,
      "outputs": []
    },
    {
      "cell_type": "code",
      "source": [
        "dir(a)"
      ],
      "metadata": {
        "id": "HAdpl8_HOGwp"
      },
      "execution_count": null,
      "outputs": []
    },
    {
      "cell_type": "markdown",
      "source": [
        "모든 Line은 79자 (Characters)로 제한하시기를 권고합니다."
      ],
      "metadata": {
        "id": "7tMU_9y1dIdv"
      }
    },
    {
      "cell_type": "code",
      "source": [
        "# aaaaaaaaaaaaaaaaaaaaaaaaaaaaaaaaaaaaaaaaaaaaaaaaaaaaaaaaaaaaaaaaaaaaaaaaaaaaaaaa => 80자\n",
        "# 아아아아아아아아아아아아아아아아아아아아아아아아아아아아아아아아아아아아아아아아아아 => 42자면 한글 넘어간다.\n",
        "# line에 딱 맞춰 들어간 것을 볼 수 있다. \n",
        "# 강제사항은 아니다. 띄어쓰기 4번도 강제사항은 아니다.\n",
        "\n",
        "# pep8, pep 20에 기술되어 있다. \n",
        "# pep8 : Style Guide for Python Code\n",
        "# pep20 : The Zen of Python\n",
        "# pep(Python Enhancement Proposal)\n",
        "# https://peps.python.org/"
      ],
      "metadata": {
        "id": "DXHYGiV8dL4Z"
      },
      "execution_count": null,
      "outputs": []
    },
    {
      "cell_type": "markdown",
      "source": [
        "### **★자주 쓰이는 method**"
      ],
      "metadata": {
        "id": "uDJROCbDPj97"
      }
    },
    {
      "cell_type": "code",
      "source": [
        "## 문자열 method ##\n",
        "'lower','islower','upper','isupper','find','rfind','index','rindex','count',\n",
        "'strip','rstrip','lstrip','replace','split','join',\n",
        "'isalnum','isdigit','isalpha','isacii','rjust','ljust','center',\n",
        "'zfill','translate','maketrans','format','endswith'\n",
        "\n",
        "'capitalize','casefold','encode','expandtabs','find','format','format_map',\n",
        "'isdecimal','isidentifier',,'isnumeric','isprintable','isspace','istitle',\n",
        "'partition','removeprefix','removesuffix','rpartition','rsplit',\n",
        "'splitlines','startswith','swapcase','title'"
      ],
      "metadata": {
        "id": "_qZX6YGrOwvN"
      },
      "execution_count": null,
      "outputs": []
    },
    {
      "cell_type": "code",
      "source": [
        "## lower, upper method ##\n",
        "# islower, isupper 함수\n",
        "'HELLO'.lower()\n",
        "'hello'.upper()"
      ],
      "metadata": {
        "id": "0lz_--Ehl8IZ"
      },
      "execution_count": null,
      "outputs": []
    },
    {
      "cell_type": "code",
      "source": [
        "## find, rfind method ##\n",
        "'hello world'.find('h')\n",
        "'hello world'.rfind('l')\n",
        "# 'hello world'.find('z')  # 못찾으면 -1"
      ],
      "metadata": {
        "id": "64pQZLJ7RLIX"
      },
      "execution_count": null,
      "outputs": []
    },
    {
      "cell_type": "code",
      "source": [
        "## index, rindex method ##\n",
        "'hello world'.index('e')\n",
        "'hello world'.rindex('l')\n",
        "# 'hello world'.index('z')  # 못찾으면 error"
      ],
      "metadata": {
        "id": "jY4laDn5RHFu"
      },
      "execution_count": null,
      "outputs": []
    },
    {
      "cell_type": "code",
      "source": [
        "## count method ##\n",
        "'[1,2,3,4,5]'.count(',')\n",
        "\n",
        "# 예제: 1부터 10000까지 8개 갯수를 모두 세어라.\n",
        "str(list(range(10000))).count('8')"
      ],
      "metadata": {
        "id": "qYE12WcEPbdS"
      },
      "execution_count": null,
      "outputs": []
    },
    {
      "cell_type": "code",
      "source": [
        "## stip, rstrip, lstrip method ##\n",
        "'              hello world                        '.strip()\n",
        "'              hello world                        '.rstrip()\n",
        "'              hello world                        '.lstrip()"
      ],
      "metadata": {
        "id": "gkJbpSe8n2ss"
      },
      "execution_count": null,
      "outputs": []
    },
    {
      "cell_type": "code",
      "source": [
        "## replace method ##\n",
        "# 메서드 체이닝에서 많이 사용\n",
        "'   ,!!  hello world   '.replace(' ', '')"
      ],
      "metadata": {
        "id": "UTYLQFv7dt-1"
      },
      "execution_count": null,
      "outputs": []
    },
    {
      "cell_type": "code",
      "source": [
        "## split method ##\n",
        "# 문자열 자르기, 결과의 type은 list\n",
        "'010-0000-0000'.split('-')\n",
        "'010-00!00-00!00'.split('!')"
      ],
      "metadata": {
        "id": "8OX_F3jln-79"
      },
      "execution_count": null,
      "outputs": []
    },
    {
      "cell_type": "code",
      "source": [
        "## join method ##\n",
        "''.join(['hello', 'world', 'seoyoung'])\n",
        "'!'.join(['hello', 'world', 'seoyoung'])\n",
        "'-'.join(['010', '1234', '5678'])\n",
        "# '-'.join([010, 1234, 5678])       # join하려면 string 형이어야 함"
      ],
      "metadata": {
        "id": "jRuQg9jTSvFD"
      },
      "execution_count": null,
      "outputs": []
    },
    {
      "cell_type": "code",
      "source": [
        "## isdigit, isalnum, isalpha, isacii method ##\n",
        "'hello'.isalnum()                # 숫자와 알파벳의 조합인지 판단\n",
        "'123hello'.isalnum()\n",
        "'안녕하세요'.isalnum()\n",
        "'hello world'.isalnum()          # 결과값: False -> 이유: ' '이 포함되어 있음\n",
        "\n",
        "'123'.isdigit()                  # 숫자인지 아닌지 판단\n",
        "\n",
        "'hello world'.isalpha()          # 알파벳인지 아닌지 판단\n",
        "'123'.isalpha()\n",
        "\n",
        "'hello world'.isacii()           # 아스키코드인지 아닌지 판단\n",
        "'123'.isacii()\n",
        "\n",
        "# 아래 문자열 중 숫자만 다 더해라\n",
        "s = 0\n",
        "for i in '123abc7584739203lsdlfei123ndsdf':\n",
        "    if i.isdigit():\n",
        "        s = s + int(i)\n",
        "s"
      ],
      "metadata": {
        "id": "5bwVSfPyfE36"
      },
      "execution_count": null,
      "outputs": []
    },
    {
      "cell_type": "code",
      "source": [
        "## rjust, ljust, center method ##\n",
        "'hello world'.rjust(30)    # 오른쪽 정렬\n",
        "'hello world'.ljust(30)    # 왼쪽 정렬\n",
        "'hello world'.center(30)   # 가운데 정렬\n",
        "\n",
        "'hello'.center(10)\n",
        "'hello'.center(20)\n",
        "'hello'.center(10,'!')           # 빈칸은 !로 채우기\n",
        "'hello'.center(20,'-')"
      ],
      "metadata": {
        "id": "GpGpeYgu3rI_"
      },
      "execution_count": null,
      "outputs": []
    },
    {
      "cell_type": "code",
      "source": [
        "## zfill method ##\n",
        "'100'.zfill(10)         # 10자리를 채움\n",
        "'1000000000'.zfill(9)   # 주어진 자리수는 다 표시됨"
      ],
      "metadata": {
        "id": "tuNbxWLCn7XM"
      },
      "execution_count": null,
      "outputs": []
    },
    {
      "cell_type": "code",
      "source": [
        "## translate, maketrans method ##\n",
        "# 참고만\n",
        "규칙테이블 = str.maketrans('lo','12')\n",
        "'hello world!'.translate(규칙테이블)                # 어떤 규칙을 정하는것\n",
        "\n",
        "규칙테이블 = str.maketrans('wor','345')\n",
        "'hello world!'.translate(규칙테이블)\n",
        "\n",
        "규칙테이블 = str.maketrans('rld','drl')\n",
        "'hello world!'.translate(규칙테이블)\n",
        "\n",
        "규칙테이블 = str.maketrans({'\\n':'', '\\t':''})\n",
        "'hello \\n\\n\\n world \\t\\t\\t !'.translate(규칙테이블)\n",
        "\n",
        "규칙테이블 = str.maketrans('\\n\\t', '  ')            # 똑같은 길이를 가지고 있어야 함\n",
        "'hello \\n\\n\\n world \\t\\t\\t !'.translate(규칙테이블)"
      ],
      "metadata": {
        "id": "gyf3kWAIfZb0"
      },
      "execution_count": null,
      "outputs": []
    },
    {
      "cell_type": "code",
      "source": [
        "## format method ##\n",
        "name = 'hojun'\n",
        "age = 11\n",
        "txt = 'name {} age {}'\n",
        "print('name {} age {}'.format(name, age))\n",
        "print('name {0} age {1}'.format(name, age))\n",
        "print('name {1} age {1}'.format(name, age))\n",
        "print(txt.format(name, age))"
      ],
      "metadata": {
        "id": "HC0V7ITCtOPm"
      },
      "execution_count": null,
      "outputs": []
    },
    {
      "cell_type": "markdown",
      "source": [
        "* **함수 관련 참고**\n"
      ],
      "metadata": {
        "id": "_zRI7YT7oGJV"
      }
    },
    {
      "cell_type": "code",
      "source": [
        "## endswith method ##\n",
        "'hello world.'.endswith('.')   # 마침표로 끝났나?\n",
        "'hello world.'.endswith('!')   # 느낌표로 끝났나?\n",
        "\n",
        "# 이렇게 사용하면 되서 해당 method는 잘 사용하지 않음\n",
        "'hello world.'[-1] == '.'\n",
        "'hello world.'[-1] == '!'"
      ],
      "metadata": {
        "id": "HF304JYhm9s3"
      },
      "execution_count": null,
      "outputs": []
    },
    {
      "cell_type": "code",
      "source": [
        "chr(106)    # 유니코드표에서 숫자를 문자로 출력\n",
        "ord('j')    # 유니코드표에서 문자를 숫자로 출력"
      ],
      "metadata": {
        "id": "XxSr94lOoHil"
      },
      "execution_count": null,
      "outputs": []
    },
    {
      "cell_type": "code",
      "source": [
        "## 메서드 체이닝 ##\n",
        "'hello seoyoung!'.replace('hello', 'bye').replace('young', 'yeong')\n",
        "\n",
        "# 지금 이 코드에서는 strip을 할 이유가 없지만 앞 뒤 공백만 제거해야 할 때가 있다.\n",
        "암호 = '''  + +-+ -+-  \n",
        "            ++ -- +-+  \n",
        "            ++-+ -+ -  \n",
        "            + ++-+ -+  '''\n",
        "이진수 = 암호.split('\\n')[0].strip().replace(' ','').replace('+','1').replace('-','0')\n",
        "int(이진수, 2)\n",
        "\n",
        "# '010-0000-0000'.split('-').zfill(0)       # error, 앞에서 진행한 split이 list를 반환하기 때문에 zfill을 사용할 수 없음\n",
        "'010-0000-0000'.split('-').count('0000')    # 가능, count는 str에도 있지만 list에도 있음"
      ],
      "metadata": {
        "id": "pvntV7zPoJ6X"
      },
      "execution_count": null,
      "outputs": []
    },
    {
      "cell_type": "markdown",
      "source": [
        "### **formatting 심화**"
      ],
      "metadata": {
        "id": "h5zrqbnY66NQ"
      }
    },
    {
      "cell_type": "code",
      "execution_count": null,
      "metadata": {
        "id": "bIR7AJ1e99Lt"
      },
      "outputs": [],
      "source": [
        "put_int_day = 230427\n",
        "put_float = 3.14\n",
        "put_str_school = \"DASchool-1\"\n",
        "put_str_subject = \"Python-기초\""
      ]
    },
    {
      "cell_type": "code",
      "source": [
        "print(\"정수 : %i, 실수 : %f, 문자열 : %s, 문자열 : %s\" % (put_int_day, put_float, put_str_school, put_str_subject))\n",
        "\n",
        "print(\"정수 : {}, 실수 : {}, 문자열 : {}, 문자열 : {}\".format(put_int_day, put_float, put_str_school, put_str_subject))\n",
        "\n",
        "print(f\"정수 : {put_int_day}, 실수 : {put_float}, 문자열 : {put_str_school}, 문자열 : {put_str_subject}\")"
      ],
      "metadata": {
        "id": "bLzVwdMXBQbN"
      },
      "execution_count": null,
      "outputs": []
    },
    {
      "cell_type": "code",
      "source": [
        "print(f'{10*10}')"
      ],
      "metadata": {
        "id": "d1jnU69kXiQB"
      },
      "execution_count": null,
      "outputs": []
    },
    {
      "cell_type": "markdown",
      "source": [
        "* **정렬 연습**"
      ],
      "metadata": {
        "id": "qujWg3I6-XIW"
      }
    },
    {
      "cell_type": "code",
      "source": [
        "print(\"정수 : %20i\" % put_int_day)      # 20자리를 비운 후 오른쪽 정렬\n",
        "\n",
        "print(\"실수 : %20.2f\" % put_float)      # 20자리를 비운 후 소수점 2째 자리까지 오른쪽 정렬\n",
        "\n",
        "print(\"문자열 : %20s\" % put_str_school) # 20자리를 비운 후 오른쪽 정렬\n"
      ],
      "metadata": {
        "id": "-OJezPkH-WpE"
      },
      "execution_count": null,
      "outputs": []
    },
    {
      "cell_type": "code",
      "source": [
        "print(\"정수 : {1}, 실수 : {0}\".format(put_float, put_int_day)) # 순서 지정 가능\n",
        "\n",
        "print('\\n')\n",
        "print(\"정수 : {:20}\".format(put_int_day))       # 20자리를 비운 후 오른쪽 정렬\n",
        "\n",
        "print(\"정수 : {:<20}\".format(put_int_day))      # 20자리를 비운 후 왼쪽 정렬\n",
        "               \n",
        "print('\\n')\n",
        "print(\"정수 : {:*<20}\".format(put_int_day))     # 왼쪽 정렬 후 나머지 자리를 *로 채움\n",
        "\n",
        "print(\"정수 : {:ㅑ>20}\".format(put_int_day))    # 오른쪽 정렬 후 나머지 자리를 ㅑ로 채움\n",
        "\n",
        "print(\"정수 : {:-^20}\".format(put_int_day))     # 가운데 정렬 후 나머지 자리를 -로 채움\n",
        "\n",
        "\n",
        "print('\\n')\n",
        "print(\"실수 : {:20.2}\".format(put_float))           # 20자리를 비운 후 숫자 2 개 오른쪽 정렬\n",
        "print(\"실수 : {:<20.2}\".format(put_float))          # 20자리를 비운 후 숫자 2 개 왼쪽 정렬\n",
        "\n",
        "print(\"실수 : {:20.3f}\".format(put_float))          # 20자리를 비운 후 소수점 2째 자리까지 오른쪽 정렬\n",
        "print(\"실수 : {:<20.3f}\".format(put_float))         # 20자리를 비운 후 소수점 2째 자리까지 왼쪽 정렬\n",
        "\n",
        "print(\"문자열 : {:20s}\".format(put_str_subject))    # 20자리를 비운 후 왼쪽 정렬\n",
        "print(\"문자열 : {:>20s}\".format(put_str_subject))   # 20자리를 비운 후 오른쪽 정렬"
      ],
      "metadata": {
        "id": "0xHT6qUi_FJc"
      },
      "execution_count": null,
      "outputs": []
    },
    {
      "cell_type": "code",
      "source": [
        "print(f\"정수 : {put_int_day}, 실수 : {put_float}, 문자열 : {put_str_school}, 문자열 : {put_str_subject}\")\n",
        "print(f\"정수 : {put_int_day:20}\")   # 20자리를 비운 후 오른쪽 정렬\n",
        "\n",
        "print(f'{\"hello\":<10}')\n",
        "print(f'{\"hello\":>10}')\n",
        "print(f'{\"hello\":^10}')\n",
        "\n",
        "print(f'{\"hello\":!<10}')\n",
        "print(f'{\"hello\":=>10}')\n",
        "print(f'{\"hello\":~^10}')\n",
        "\n",
        "print(f'{bin(9)[2:]:0>5}')\n",
        "print(f'{0.45678:0.2f}')"
      ],
      "metadata": {
        "id": "N4ICU4zq_HWm"
      },
      "execution_count": null,
      "outputs": []
    },
    {
      "cell_type": "markdown",
      "source": [
        "### **문자열 활용**"
      ],
      "metadata": {
        "id": "UCkiOCsff82k"
      }
    },
    {
      "cell_type": "markdown",
      "source": [
        "* **문자열 인덱싱**"
      ],
      "metadata": {
        "id": "J0ZD0mNrig1S"
      }
    },
    {
      "cell_type": "code",
      "source": [
        "name = 'Hello World!'\n",
        "print(name[0])\n",
        "print(name[1])\n",
        "print(name[2])"
      ],
      "metadata": {
        "id": "AUfxmbQ4yfYj"
      },
      "execution_count": null,
      "outputs": []
    },
    {
      "cell_type": "markdown",
      "source": [
        "* **문자열 슬라이싱**"
      ],
      "metadata": {
        "id": "JoWBf3CPikyh"
      }
    },
    {
      "cell_type": "code",
      "source": [
        "# s[start:stop:step]\n",
        "s = '하루하루 나아가기..!'\n",
        "\n",
        "s[0:6]  # 결과값: '하루하루 나'\n",
        "s[:6]   # 결과값: '하루하루 나'\n",
        "\n",
        "s[5:7]                              # 결과값: '나아'\n",
        "s[7:9]                              # 결과값: '가기'\n",
        "s[s.find('가기'):s.find('가기')+2]  # 결과값: '가기'\n",
        "\n",
        "s[-1]       # 결과값: '!'\n",
        "s[:-5]      # 결과값: '하루하루 나아'\n",
        "s[:-1]      # 결과값: '하루하루 나아가기..' -> 많이 사용. 마지막만 제거\n",
        "s[-7:-1]    # 결과값: '나아가기..' # 많이 안씀.\n",
        "\n",
        "s[::2]      # 결과값: '하하 아기.' -> 한칸씩 건너뜀\n",
        "s[::-1]     # 결과값: '!..기가아나 루하루하' -> 꺼꾸로 출력"
      ],
      "metadata": {
        "id": "LEzxaC0qypux"
      },
      "execution_count": null,
      "outputs": []
    },
    {
      "cell_type": "markdown",
      "source": [
        "* **문자열 사칙연산**"
      ],
      "metadata": {
        "id": "-yXribN8in85"
      }
    },
    {
      "cell_type": "code",
      "source": [
        "s = 'seoyoung'\n",
        "\n",
        "s+s\n",
        "s*3\n",
        "# s/s   # error \n",
        "# s//s  # error\n",
        "# s-s   # error"
      ],
      "metadata": {
        "id": "YFlddPvlzeP0"
      },
      "execution_count": null,
      "outputs": []
    },
    {
      "cell_type": "markdown",
      "source": [
        "# ***CH1-3. 입력과 출력***"
      ],
      "metadata": {
        "id": "g76kMhs-Sy95"
      }
    },
    {
      "cell_type": "markdown",
      "source": [
        "## **입력함수 input**"
      ],
      "metadata": {
        "id": "puaTHMpFS2tC"
      }
    },
    {
      "cell_type": "markdown",
      "source": [
        "* 입력한 값은 문자열로 저장된다."
      ],
      "metadata": {
        "id": "AxqPS5re85E2"
      }
    },
    {
      "cell_type": "code",
      "source": [
        "age = input('age를 입력하세요:')\n",
        "lastname = input('lastname을 입력하세요:')\n",
        "firstname = input('firstname을 입력하세요:')\n",
        "print('당신의 이름은 ', lastname + firstname, '입니다.')\n",
        "print('당신의 나이는 ', age, '입니다.')"
      ],
      "metadata": {
        "id": "qpR7D9UwlR5k"
      },
      "execution_count": null,
      "outputs": []
    },
    {
      "cell_type": "markdown",
      "source": [
        "## **★출력함수 print**\n",
        "\n",
        "\n",
        "\n"
      ],
      "metadata": {
        "id": "KZTO7BNUS4AT"
      }
    },
    {
      "cell_type": "code",
      "source": [
        "# 내장함수(built-in functions)\n",
        "# https://docs.python.org/3/library/functions.html\n",
        "\n",
        "# print(*objects, sep=' ', end='\\n', file=None, flush=False)"
      ],
      "metadata": {
        "id": "gtc_-Wtn9eQt"
      },
      "execution_count": null,
      "outputs": []
    },
    {
      "cell_type": "code",
      "source": [
        "print('hello world', end='!')\n",
        "print('hello world', end='!')\n",
        "print('hello world', end='!')\n",
        "\n",
        "print('H','E','L','L','O', sep='@')"
      ],
      "metadata": {
        "id": "aQSe-WAcXJpk"
      },
      "execution_count": null,
      "outputs": []
    },
    {
      "cell_type": "code",
      "source": [
        "name = 'seoyoung'\n",
        "age = 20\n",
        "\n",
        "# 2번은 자주 사용, 4번은 잘 사용되지 않는다.\n",
        "print('1. 제 이름은 ', name, '입니다. 제 나이는 ', age, '입니다')\n",
        "print(f'2. 제 이름은 {name}입니다. 제 나이는 {age}입니다.')             # f-string 용법\n",
        "print('3. 제 이름은 {}입니다. 제 나이는 {}입니다.'.format(name, age))   # format 용법\n",
        "print('4. 제 이름은 %s입니다. 제 나이는 %d입니다.'%(name, age))         # % 용법"
      ],
      "metadata": {
        "id": "7MKHiQfPT3N2"
      },
      "execution_count": null,
      "outputs": []
    },
    {
      "cell_type": "markdown",
      "source": [
        "* **참고**"
      ],
      "metadata": {
        "id": "bdssLMFN61_o"
      }
    },
    {
      "cell_type": "code",
      "source": [
        "# raw (날 것)\n",
        "print(r'hello \\n % world') "
      ],
      "metadata": {
        "id": "H8MyT0g0lDDe"
      },
      "execution_count": null,
      "outputs": []
    },
    {
      "cell_type": "code",
      "source": [
        "# 내장함수 sum\n",
        "sum([10, 20, 30, 40], 0)\n",
        "sum([10, 20, 30, 40], 100)\n",
        "sum([[1, 2, 3], [4, 5, 6], [7, 8, 9]], [])"
      ],
      "metadata": {
        "id": "7hdTo5Hk2FMx"
      },
      "execution_count": null,
      "outputs": []
    },
    {
      "cell_type": "code",
      "source": [
        "# 이스케이브 문자\n",
        "print('hello world \\n hello world')\n",
        "print('hello world \\t hello world')\n",
        "print('hello world \\' hello world')\n",
        "print('hello world \\\" hello world')\n",
        "print('hello world \\\\ hello world')"
      ],
      "metadata": {
        "id": "FeafkRo-kCP8"
      },
      "execution_count": null,
      "outputs": []
    },
    {
      "cell_type": "markdown",
      "source": [
        "# ***CH1-4. 형변환***"
      ],
      "metadata": {
        "id": "_a8RWPQ_z2IH"
      }
    },
    {
      "cell_type": "code",
      "source": [
        "int()\n",
        "float()\n",
        "str()\n",
        "bool()\n",
        "list('seoyoung')\n",
        "tuple()\n",
        "\n",
        "s = [('name','seoyoung'),('age',10)]\n",
        "d = dict(s)\n",
        "d\n",
        "\n",
        "set('seoyoung')"
      ],
      "metadata": {
        "id": "Z749-ghS0pl6"
      },
      "execution_count": null,
      "outputs": []
    },
    {
      "cell_type": "code",
      "source": [
        "x = input('Insert the number.')\n",
        "y = input('Insert the number.')\n",
        "print(x + y)\n",
        "print(type(x))  # 입력받은 값은 문자열\n",
        "print(type(y))"
      ],
      "metadata": {
        "id": "7U_WsOTP1cY4"
      },
      "execution_count": null,
      "outputs": []
    },
    {
      "cell_type": "code",
      "source": [
        "# 숫자 : 0외에 다른 숫자는 다 참\n",
        "# 문자 : ''외에 다른 문자는 다 참\n",
        "# 리스트 : []외에 다른 리스트는 다 참\n",
        "print(\"bool('test') : \", bool('test'))\n",
        "print(\"bool(1) : \", bool(1))\n",
        "print(\"bool(0) : \", bool(0))\n",
        "print(\"bool(-1) : \", bool(-1))\n",
        "print(\"bool(' ') : \", bool(' '))\n",
        "print(\"bool('') : \", bool(''))\n",
        "print(\"bool(None) : \", bool(None))"
      ],
      "metadata": {
        "id": "DrHQ4TRq1joy"
      },
      "execution_count": null,
      "outputs": []
    },
    {
      "cell_type": "markdown",
      "source": [
        "# **ㅡㅡㅡㅡChapter 2ㅡㅡㅡㅡ**"
      ],
      "metadata": {
        "id": "jeTTVNK-_3JG"
      }
    },
    {
      "cell_type": "markdown",
      "source": [
        "# ***CH2. 연산***"
      ],
      "metadata": {
        "id": "tQHMDINEV2nD"
      }
    },
    {
      "cell_type": "markdown",
      "source": [
        "## **연산 우선순위**"
      ],
      "metadata": {
        "id": "e1PMr8jEmMco"
      }
    },
    {
      "cell_type": "markdown",
      "source": [
        "* 모두 익히기 쉽지 않다.\n",
        "* 헷갈리면 괄호()로 묶어서 처리"
      ],
      "metadata": {
        "id": "PRat9CcQmPMZ"
      }
    },
    {
      "cell_type": "markdown",
      "source": [
        "1. **리스트 , 튜플, 딕셔너리, 셋**\n",
        "2. **인덱싱, 슬라이싱**\n",
        "3. **\\*\\***\n",
        "4. ***, @,  /, //, %**\n",
        "5. **+, -**\n",
        "6. **비트단위 연산**\n",
        "7. **in, not in, is, is not**\n",
        "8. **논리연산(not, and, or)**\n",
        "9. **if, else**\n",
        "10. **lambda**"
      ],
      "metadata": {
        "id": "Sh6ni4391kjj"
      }
    },
    {
      "cell_type": "markdown",
      "source": [
        "## **산술연산**"
      ],
      "metadata": {
        "id": "0zQZJe07TnRL"
      }
    },
    {
      "cell_type": "markdown",
      "source": [
        "* +, -, *, **, /, //, %\n",
        "* 파이썬에는 전/후위 연산자가 존재하지 않는다. (++, --)"
      ],
      "metadata": {
        "id": "XWvLEfrln_4n"
      }
    },
    {
      "cell_type": "code",
      "source": [
        "a = 10\n",
        "b = 3\n",
        "\n",
        "print(a + b)\n",
        "print(a - b)\n",
        "print(a / b)    # float\n",
        "print(a // b)   # int\n",
        "print(a * b)\n",
        "print(a ** b)\n",
        "print(a % b)    # 나머지"
      ],
      "metadata": {
        "id": "tosJlrKGwMNs"
      },
      "execution_count": null,
      "outputs": []
    },
    {
      "cell_type": "markdown",
      "source": [
        "## **비교연산**"
      ],
      "metadata": {
        "id": "FIzkcJtYVoQK"
      }
    },
    {
      "cell_type": "markdown",
      "source": [
        "* \\>, <, >=, <=, ==, !="
      ],
      "metadata": {
        "id": "mgoQ2d5CwXS2"
      }
    },
    {
      "cell_type": "code",
      "source": [
        "a = 10\n",
        "b = 3\n",
        "\n",
        "print(a == b)   # 같은가?\n",
        "print(a != b)   # 다른가?\n",
        "print(a > b)\n",
        "print(a >= b)\n",
        "print(a < b)\n",
        "print(a <= b)"
      ],
      "metadata": {
        "id": "5KnnYKilwf3R"
      },
      "execution_count": null,
      "outputs": []
    },
    {
      "cell_type": "markdown",
      "source": [
        "## **논리연산**"
      ],
      "metadata": {
        "id": "0PzPFf7UVshB"
      }
    },
    {
      "cell_type": "markdown",
      "source": [
        "* and, or, not"
      ],
      "metadata": {
        "id": "m6ZlJRtYwuoY"
      }
    },
    {
      "cell_type": "code",
      "source": [
        "# True : 1\n",
        "# False : 0\n",
        "# And : 논리곱\n",
        "# or : 논리합\n",
        "# not :부정"
      ],
      "metadata": {
        "id": "mH1nlle0w0rz"
      },
      "execution_count": null,
      "outputs": []
    },
    {
      "cell_type": "code",
      "source": [
        "## and ##\n",
        "# 둘 중 하나라도 False라면 False\n",
        "\n",
        "for i in range(101):\n",
        "    if i % 3 == 0 and i % 5 ==0:\n",
        "        print(i)\n",
        "    \n",
        "# for i in range(101):\n",
        "#     if i % 3 == 0:\n",
        "#         if i % 5 == 0:\n",
        "#             print(i)"
      ],
      "metadata": {
        "id": "Qzdg2cRHw1_Q"
      },
      "execution_count": null,
      "outputs": []
    },
    {
      "cell_type": "code",
      "source": [
        "## or ##\n",
        "# 둘 중 하나라도 True라면 True\n",
        "\n",
        "for i in range(101):\n",
        "    if i % 3 == 0 or i % 5 ==0:\n",
        "        print(i)"
      ],
      "metadata": {
        "id": "fHaKqZj5xKuh"
      },
      "execution_count": null,
      "outputs": []
    },
    {
      "cell_type": "code",
      "source": [
        "## not ##\n",
        "not False"
      ],
      "metadata": {
        "id": "VNlp0-Puxt9l"
      },
      "execution_count": null,
      "outputs": []
    },
    {
      "cell_type": "markdown",
      "source": [
        "* and가 or보다 먼저 실행됨 (and를 중심으로 괄호묶는다고 생각하기)"
      ],
      "metadata": {
        "id": "VrYaGoavxjly"
      }
    },
    {
      "cell_type": "code",
      "source": [
        "for i in range(101):\n",
        "    if i % 3 == 0 and i % 5 == 0 or i % 2 == 0:\n",
        "        print(i)\n",
        "\n",
        "# for i in range(101):\n",
        "#     if (i % 3 == 0 and i % 5 == 0) or i % 2 == 0:\n",
        "#         print(i)\n",
        "\n",
        "for i in range(101):\n",
        "    if i % 3 == 0 or i % 5 == 0 and i % 2 == 0:\n",
        "        print(i)\n",
        "\n",
        "# for i in range(101):\n",
        "#     if i % 3 == 0 or (i % 5 == 0 and i % 2 == 0):\n",
        "#         print(i)"
      ],
      "metadata": {
        "id": "QwFi7BWGxnDj"
      },
      "execution_count": null,
      "outputs": []
    },
    {
      "cell_type": "markdown",
      "source": [
        "* 논리연산 실행결과"
      ],
      "metadata": {
        "id": "xsjQNsI6x5jU"
      }
    },
    {
      "cell_type": "code",
      "source": [
        "# and 실행 시\n",
        "# 앞이 False면 뒤에 값을 확인 할 필요가 없음\n",
        "10 and 20   # 결과값: 20\n",
        "0 and 20    # 결과값: 0"
      ],
      "metadata": {
        "id": "lE7khFGTyBZf"
      },
      "execution_count": null,
      "outputs": []
    },
    {
      "cell_type": "code",
      "source": [
        "# or 실행 시\n",
        "# 앞이 True면 뒤에 값을 확인 할 필요가 없음\n",
        "username = 'seoyoung'\n",
        "\n",
        "username = username or 'moon'\n",
        "username"
      ],
      "metadata": {
        "id": "hTYjmGToyC1l"
      },
      "execution_count": null,
      "outputs": []
    },
    {
      "cell_type": "code",
      "source": [
        "def err():\n",
        "    1/0\n",
        "\n",
        "test = 0 and err()\n",
        "test\n",
        "\n",
        "test = 10 or err()\n",
        "test\n",
        "\n",
        "# error\n",
        "# test = 10 and err()\n",
        "# test"
      ],
      "metadata": {
        "id": "IBEBca3KzCRb"
      },
      "execution_count": null,
      "outputs": []
    },
    {
      "cell_type": "code",
      "source": [
        "print(4 and 10 or 20)"
      ],
      "metadata": {
        "id": "NbJqmzWf8vIr"
      },
      "execution_count": null,
      "outputs": []
    },
    {
      "cell_type": "markdown",
      "source": [
        "## **비트연산**"
      ],
      "metadata": {
        "id": "N07IlBsHXOb7"
      }
    },
    {
      "cell_type": "markdown",
      "source": [
        "* 거의 만날일 없음\n",
        "* &, |, ^, ~, <<, >>"
      ],
      "metadata": {
        "id": "OGFoQ5YzzfWV"
      }
    },
    {
      "cell_type": "code",
      "source": [
        "7 & 5\n",
        "\n",
        "# 111\n",
        "# 101\n",
        "# ---\n",
        "# 101"
      ],
      "metadata": {
        "id": "OBW-o2NI0VW5"
      },
      "execution_count": null,
      "outputs": []
    },
    {
      "cell_type": "code",
      "source": [
        "7 | 5\n",
        "\n",
        "# 111\n",
        "# 101\n",
        "# ---\n",
        "# 111"
      ],
      "metadata": {
        "id": "1iZLx68V0W6j"
      },
      "execution_count": null,
      "outputs": []
    },
    {
      "cell_type": "code",
      "source": [
        "~-10    # 2의 보수\n",
        "~~-10"
      ],
      "metadata": {
        "id": "kmLuJW2Z0hWX"
      },
      "execution_count": null,
      "outputs": []
    },
    {
      "cell_type": "code",
      "source": [
        "a = 7\n",
        "b = 2\n",
        "\n",
        "# 7을 왼쪽으로 2번 밀기 -> 0으로 채우기\n",
        "print(a << b)"
      ],
      "metadata": {
        "id": "UERSYFTT1DVl"
      },
      "execution_count": null,
      "outputs": []
    },
    {
      "cell_type": "code",
      "source": [
        "a = 7\n",
        "b = 2\n",
        "\n",
        "# 7을 오른쪽으로 2번 밀기 -> 0으로 채우기\n",
        "print(a >> b)"
      ],
      "metadata": {
        "id": "V4dacGzj1D5w"
      },
      "execution_count": null,
      "outputs": []
    },
    {
      "cell_type": "markdown",
      "source": [
        "## **할당연산**"
      ],
      "metadata": {
        "id": "fku97CNzlMcG"
      }
    },
    {
      "cell_type": "markdown",
      "source": [
        "* =, +=, -=, *=, \\**=, /=, //=, %="
      ],
      "metadata": {
        "id": "PK382uqq1WFH"
      }
    },
    {
      "cell_type": "code",
      "source": [
        "a = 10\n",
        "\n",
        "# a = a + 10\n",
        "a += 10\n",
        "\n",
        "a"
      ],
      "metadata": {
        "id": "o2VAWGgl2NRd"
      },
      "execution_count": null,
      "outputs": []
    },
    {
      "cell_type": "markdown",
      "source": [
        "## **식별연산**"
      ],
      "metadata": {
        "id": "NgdQyckxlP98"
      }
    },
    {
      "cell_type": "markdown",
      "source": [
        "* 주소를 비교하는 연산자\n",
        "* is, is not"
      ],
      "metadata": {
        "id": "c0JehZo12Trf"
      }
    },
    {
      "cell_type": "code",
      "source": [
        "a = 10\n",
        "b = 10\n",
        "print(id(a), id(b))\n",
        "a is b"
      ],
      "metadata": {
        "id": "-uwZ8iDr2d5t"
      },
      "execution_count": null,
      "outputs": []
    },
    {
      "cell_type": "code",
      "source": [
        "a = 999\n",
        "b = 999\n",
        "print(id(a), id(b))\n",
        "a is b"
      ],
      "metadata": {
        "id": "isDqawzV2f8R"
      },
      "execution_count": null,
      "outputs": []
    },
    {
      "cell_type": "code",
      "source": [
        "a = [1, 2, 3]\n",
        "b = [1, 2, 3]\n",
        "c = a\n",
        "\n",
        "print(id(a), id(b))\n",
        "print('a == b', a == b)\n",
        "print('a == c', a == c)\n",
        "print('a is b', a is b)\n",
        "print('a is c', a is c)"
      ],
      "metadata": {
        "id": "zj3oX1ve2go9"
      },
      "execution_count": null,
      "outputs": []
    },
    {
      "cell_type": "markdown",
      "source": [
        "Python은 동일한 문자열이 있다면 해당 문자열을 가진 주소를 그대로 참조하게 되어있습니다. <br/>\n",
        "그렇기 때문에 동일한 문자열을 생성하는 경우에는 동일한 주소를 보고 있게 됩니다.\n",
        "(항상 그런 것은 아닙니다.)"
      ],
      "metadata": {
        "id": "wMuYRYxl33Kp"
      }
    },
    {
      "cell_type": "code",
      "source": [
        "coffee = \"Brand\"\n",
        "orange = \"Brand\"\n",
        "\n",
        "print(coffee is orange)\n",
        "print(coffee == orange)"
      ],
      "metadata": {
        "id": "1Yk1zgoQ2vjS"
      },
      "execution_count": null,
      "outputs": []
    },
    {
      "cell_type": "markdown",
      "source": [
        "## **멤버연산**"
      ],
      "metadata": {
        "id": "RYyxO2SrlUks"
      }
    },
    {
      "cell_type": "markdown",
      "source": [
        "* in, not in"
      ],
      "metadata": {
        "id": "Q4v3J0bR4Sx9"
      }
    },
    {
      "cell_type": "code",
      "source": [
        "## str ##\n",
        "'l' in 'hello'\n",
        "\n",
        "## list ##\n",
        "10 in [1,2,3]\n",
        "10 in [1,2,3,10]\n",
        "\n",
        "## tuple ##\n",
        "10 in (10, 20, 30)\n",
        "[2] in (10, 20, 30)\n",
        "[1, 2] in (10, 20, 30)\n",
        "\n",
        "## set ##\n",
        "10 in {10, 20, 30}\n",
        "{10} in {10, 20, 30}        # 부분집합은 검색X\n",
        "{10, 20} in {10, 20, 30}\n",
        "# {10} in {[{10}, 20, 30]}  # error\n",
        "{10} in [{10}, 20, 30]\n",
        "\n",
        "## dict ##\n",
        "a={'key':'value', 'key2':'value'}\n",
        "'key' in a\n",
        "'value' in a            # value값으로 검색 불가능\n",
        "('key', 'key2') in a\n",
        "# {'key', 'key2'} in a  # error"
      ],
      "metadata": {
        "id": "j9fd3heE4U1Q"
      },
      "execution_count": null,
      "outputs": []
    },
    {
      "cell_type": "markdown",
      "source": [
        "# **ㅡㅡㅡㅡChapter 3ㅡㅡㅡㅡ**"
      ],
      "metadata": {
        "id": "dkjwzjNr_7vc"
      }
    },
    {
      "cell_type": "markdown",
      "source": [
        "# ***CH3. 함수***"
      ],
      "metadata": {
        "id": "rT2heCEvXw7u"
      }
    },
    {
      "cell_type": "markdown",
      "source": [
        "## **기본 개념**"
      ],
      "metadata": {
        "id": "BJaJybKnlIkD"
      }
    },
    {
      "cell_type": "markdown",
      "source": [
        "![image.png](data:image/png;base64,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)"
      ],
      "metadata": {
        "id": "HYdBpFqwmgd0"
      }
    },
    {
      "cell_type": "code",
      "source": [
        "# 파선아실 (parameter는 선언할 때, argument는 실행할 때)\n",
        "def function(x,y): # Input\n",
        "    z = x + y      # Function\n",
        "    print(z)       # Output?\n",
        "    return z       # Output\n",
        "\n",
        "print(f'function(5, 7) = {function(5, 7)}')"
      ],
      "metadata": {
        "id": "VY8IXXRzVUlv"
      },
      "execution_count": null,
      "outputs": []
    },
    {
      "cell_type": "code",
      "source": [
        "## return None ##\n",
        "# 같은 코드\n",
        "\n",
        "def function(x,y):\n",
        "    z = x + y\n",
        "print(f'function(5, 7) = {function(5, 7)}')\n",
        "\n",
        "def function(x,y):\n",
        "    z = x + y\n",
        "    return None\n",
        "print(f'function(5, 7) = {function(5, 7)}')"
      ],
      "metadata": {
        "id": "Sti57yTdYhSr"
      },
      "execution_count": null,
      "outputs": []
    },
    {
      "cell_type": "markdown",
      "source": [
        "* **예제**"
      ],
      "metadata": {
        "id": "k-0794kzlTjP"
      }
    },
    {
      "cell_type": "code",
      "source": [
        "# EX 1\n",
        "def function():\n",
        "    print('hello')\n",
        "    print('hello')\n",
        "    print('hello')\n",
        "    print('hello')\n",
        "\n",
        "function()\n",
        "print()\n",
        "print(function())"
      ],
      "metadata": {
        "id": "TM8VY1NqY5xI"
      },
      "execution_count": null,
      "outputs": []
    },
    {
      "cell_type": "code",
      "source": [
        "# EX 2\n",
        "def function1(x):\n",
        "    print('world1')\n",
        "    print('world2')\n",
        "    print('world3')\n",
        "\n",
        "def function2(x, y):\n",
        "    print('hello1')\n",
        "    print('hello2')\n",
        "    return x + y\n",
        "\n",
        "a = function1(1)\n",
        "b = function2(3,4)\n",
        "print(a, b)"
      ],
      "metadata": {
        "id": "3fnoeJ76cEEW"
      },
      "execution_count": null,
      "outputs": []
    },
    {
      "cell_type": "code",
      "source": [
        "# EX 3\n",
        "def function1(x):\n",
        "    print('world1')\n",
        "    print('world2')\n",
        "    print('world3')\n",
        "    return x + x\n",
        "\n",
        "def function2(x, y):\n",
        "    print('hello1')\n",
        "    print('hello2')\n",
        "    z = function1(10)\n",
        "    return x + y + z\n",
        "\n",
        "a = function1(1)\n",
        "b = function2(3, 4)\n",
        "print(a, b)"
      ],
      "metadata": {
        "id": "ImFnL-bmhcOG"
      },
      "execution_count": null,
      "outputs": []
    },
    {
      "cell_type": "markdown",
      "source": [
        "* **함수 안에 함수 만들기**"
      ],
      "metadata": {
        "id": "06n4K1mbhes2"
      }
    },
    {
      "cell_type": "code",
      "source": [
        "# 함수 안에 있는 변수나 함수는 함수가 끝나면 휘발된다.\n",
        "# 메모리에서 사라진다.\n",
        "def f2(x, y):\n",
        "    def f1(x):\n",
        "        print('world1')\n",
        "        return x + x\n",
        "    print('hello1')\n",
        "    z = f1(10)\n",
        "    return x + y + z\n",
        "\n",
        "# a = f1(1) # 함수 안에 있는 함수는 밖에서 호출할 수 없음\n",
        "b = f2(3, 4)\n",
        "print(b)\n",
        "\n",
        "# print(z)  # 함수가 끝났기 때문에 x, y, z에 접근할 수 없음"
      ],
      "metadata": {
        "id": "JHAfLwk6hd9c"
      },
      "execution_count": null,
      "outputs": []
    },
    {
      "cell_type": "markdown",
      "source": [
        "## **지역 변수와 전역 변수**"
      ],
      "metadata": {
        "id": "vt6XLPDGm3WO"
      }
    },
    {
      "cell_type": "markdown",
      "source": [
        "* 지역변수: 함수 내부에서만 사용되는 변수\n",
        "* 전역변수: 프로그램 어디에서나 접근이 가능한 변수, global"
      ],
      "metadata": {
        "id": "AbLhNXUtpam7"
      }
    },
    {
      "cell_type": "code",
      "source": [
        "## 1 ##\n",
        "x = 100\n",
        "def plusX(x):\n",
        "    x = x + 100\n",
        "    return x\n",
        "\n",
        "print(plusX(10))"
      ],
      "metadata": {
        "id": "0dFX_qiXn935"
      },
      "execution_count": null,
      "outputs": []
    },
    {
      "cell_type": "code",
      "source": [
        "## 2 ##\n",
        "# 전역변수 값을 가져다 쓰는건 상관없음\n",
        "x = 100\n",
        "def plusX(z):\n",
        "    z = z + x\n",
        "    return z\n",
        "\n",
        "print(plusX(10))"
      ],
      "metadata": {
        "id": "923oUSLbn_kV"
      },
      "execution_count": null,
      "outputs": []
    },
    {
      "cell_type": "code",
      "source": [
        "## 3 문제가 생기는 코드 ##\n",
        "# 함수 밖의 변수는 함수 안에서 변경 불가\n",
        "x = 100\n",
        "def plusX(z):\n",
        "    x = z + x\n",
        "    return z\n",
        "\n",
        "print(plusX(10))\n",
        "x"
      ],
      "metadata": {
        "id": "4Xb5fRaWiqbY"
      },
      "execution_count": null,
      "outputs": []
    },
    {
      "cell_type": "code",
      "source": [
        "## 4 문제가 생기지 않는 코드 ##\n",
        "# global 사용\n",
        "# 전역변수 x값이 수정됨\n",
        "x = 100\n",
        "def plusX(z):\n",
        "    global x # 권하지 않습니다.\n",
        "    x = z + x\n",
        "    return z\n",
        "\n",
        "print(plusX(10))\n",
        "x"
      ],
      "metadata": {
        "id": "BAdTD5KjnkS7"
      },
      "execution_count": null,
      "outputs": []
    },
    {
      "cell_type": "code",
      "source": [
        "## 5 ##\n",
        "# global 대신 사용방법\n",
        "x = 100\n",
        "def plusX(x):\n",
        "    return x + 10\n",
        "\n",
        "x = plusX(x)"
      ],
      "metadata": {
        "id": "cqjfJ6hWnvOm"
      },
      "execution_count": null,
      "outputs": []
    },
    {
      "cell_type": "markdown",
      "source": [
        "## **재귀함수 (recursion)**"
      ],
      "metadata": {
        "id": "e-towwfvqJ7f"
      }
    },
    {
      "cell_type": "code",
      "source": [
        "# 대부분의 코드는 for로 대체할 수 있다.\n",
        "# 효율도 매우 좋지 않다. 다만 메모라이징 기법을 사용하면 좋긴 하다.\n",
        "# 다이나믹 프로그래밍 등 필수적으로 사용되는 곳이 있기도 하다."
      ],
      "metadata": {
        "id": "9KqWrKrrqLZN"
      },
      "execution_count": null,
      "outputs": []
    },
    {
      "cell_type": "code",
      "source": [
        "# sys.setrecursionlimit -> 제한을 늘릴 수 있음\n",
        "def 숫자출력():\n",
        "    print(1)\n",
        "    return 숫자출력()\n",
        "숫자출력()"
      ],
      "metadata": {
        "id": "y4_yvSUTsGt-"
      },
      "execution_count": null,
      "outputs": []
    },
    {
      "cell_type": "markdown",
      "source": [
        "* 예제: Fatorial"
      ],
      "metadata": {
        "id": "0Oz67X76uKex"
      }
    },
    {
      "cell_type": "code",
      "source": [
        "def factorial(n):\n",
        "    if n == 1:\n",
        "        return n\n",
        "    return n * factorial(n-1)\n",
        "\n",
        "factorial(5)\n",
        "\n",
        "#                 return 값\n",
        "# factorial(5) == 5 * factorial(4)\n",
        "# factorial(4) == 4 * factorial(3)\n",
        "# factorial(3) == 3 * factorial(2)\n",
        "# factorial(2) == 2 * factorial(1)\n",
        "# factorial(1) == 1"
      ],
      "metadata": {
        "id": "cRouU_TtsSjn"
      },
      "execution_count": null,
      "outputs": []
    },
    {
      "cell_type": "code",
      "source": [
        "result = 1\n",
        "for i in range(1, 6):\n",
        "    result *= i\n",
        "\n",
        "result"
      ],
      "metadata": {
        "id": "38GEnAPOt8bj"
      },
      "execution_count": null,
      "outputs": []
    },
    {
      "cell_type": "markdown",
      "source": [
        "* 예제: 문자열 거꾸로 출력"
      ],
      "metadata": {
        "id": "TQGibWVzuOh_"
      }
    },
    {
      "cell_type": "code",
      "source": [
        "def strig_reverse(s):\n",
        "    if len(s) == 1:\n",
        "        return s\n",
        "    return strig_reverse(s[1:]) + s[0]\n",
        "\n",
        "strig_reverse('hello')\n",
        "\n",
        "#                            return 값\n",
        "# strig_reverse('hello') ==  'ello' + 'h'\n",
        "# strig_reverse('ello')  ==  'llo' + 'e'\n",
        "# strig_reverse('llo')   ==  'lo' + 'l'\n",
        "# strig_reverse('lo')    ==  'o' + 'l'\n",
        "# # strig_reverse('o')   ==  'o'"
      ],
      "metadata": {
        "id": "_NWbPmeIuYvr"
      },
      "execution_count": null,
      "outputs": []
    },
    {
      "cell_type": "code",
      "source": [
        "s = 'hello world'\n",
        "result = ''\n",
        "for i in s:\n",
        "    result = i + result\n",
        "\n",
        "result\n",
        "\n",
        "# s = 'hello world'\n",
        "# result = ''\n",
        "# for i in s:\n",
        "#     print('----------')\n",
        "#     print(i)\n",
        "#     print(f'연산 전 result : {result}')\n",
        "#     result = i + result\n",
        "#     print(f'연산 후 result : {result}')\n",
        "\n",
        "# result"
      ],
      "metadata": {
        "id": "oGDwURR9uAG-"
      },
      "execution_count": null,
      "outputs": []
    },
    {
      "cell_type": "markdown",
      "source": [
        "* 예제: fibonacci"
      ],
      "metadata": {
        "id": "M1Zj2SDwEpUO"
      }
    },
    {
      "cell_type": "code",
      "source": [
        "# 재귀가 얼마나 비효율적인지 보여주는 사례\n",
        "def fib(num):\n",
        "    if num == 0:\n",
        "        return 0\n",
        "    if num == 1 or num == 2:\n",
        "        return 1\n",
        "    else:\n",
        "        return fib(num-1) + fib(num-2)\n",
        "\n",
        "fib(35)"
      ],
      "metadata": {
        "id": "j0dyTVnnEvOp"
      },
      "execution_count": null,
      "outputs": []
    },
    {
      "cell_type": "code",
      "source": [
        "from functools import lru_cache\n",
        "\n",
        "@lru_cache(maxsize=None)\n",
        "def fib(num):\n",
        "    if num == 0:\n",
        "        return 0\n",
        "    if num == 1 or num == 2:\n",
        "        return 1\n",
        "    else:\n",
        "        return fib(num-1) + fib(num-2)\n",
        "\n",
        "fib(40)"
      ],
      "metadata": {
        "id": "vlZ9ImiZE-Ep"
      },
      "execution_count": null,
      "outputs": []
    },
    {
      "cell_type": "markdown",
      "source": [
        "# **ㅡㅡㅡㅡChapter 4ㅡㅡㅡㅡ**"
      ],
      "metadata": {
        "id": "A2F18hjL_-K5"
      }
    },
    {
      "cell_type": "markdown",
      "source": [
        "# ***CH4-1. list (리스트)***\n"
      ],
      "metadata": {
        "id": "mFopqIBBp5g8"
      }
    },
    {
      "cell_type": "markdown",
      "source": [
        "* 순서가 있는 데이터\n",
        "* 값의 수정이 가능하다. (mutable한 객체)\n",
        "* 리스트 컴프리헨션이 일반 반복보다 속도 우위를 가지고 있다. <br/>\n",
        "(리스트 컴프리헨션: 리스트 안에 표현식(계산식)과 for문, if문을 한줄에 넣어서 새로운 리스트를 만드는 것)\n",
        "* 슬라이싱도 일반 반복보다 속도 우위를 가지고 있다."
      ],
      "metadata": {
        "id": "8w-q_VUNS0kK"
      }
    },
    {
      "cell_type": "markdown",
      "source": [
        "## **기본 개념**"
      ],
      "metadata": {
        "id": "aF5ViZdh6t6P"
      }
    },
    {
      "cell_type": "code",
      "source": [
        "l = [10, 20, 30, 40]\n",
        "type(l), dir(l)"
      ],
      "metadata": {
        "id": "g91Ds2CaYYic"
      },
      "execution_count": null,
      "outputs": []
    },
    {
      "cell_type": "code",
      "source": [
        "ㅣ = [10, 20, 30, 40]\n",
        "ㅣ[0] = 10000   # mutable한 객체 <-> inmutable한 객체(문자열)"
      ],
      "metadata": {
        "id": "ZWqj9mhpV34s"
      },
      "execution_count": null,
      "outputs": []
    },
    {
      "cell_type": "code",
      "source": [
        "s = 'hello'\n",
        "# s[0] = 'k'    # error! -> inmutable한 객체(값 수정불가)"
      ],
      "metadata": {
        "id": "nukY60woV4ge"
      },
      "execution_count": null,
      "outputs": []
    },
    {
      "cell_type": "code",
      "source": [
        "# list[start:stop:step]\n",
        "data = [10, 20, 30, 40, 50, 60, 70]\n",
        "data[1:]\n",
        "data[1:-1]\n",
        "data[::2]\n",
        "data[:] # 매우 중요!\n",
        "\n",
        "data = [10, 20, 30, 40, 50, 60, 70]\n",
        "data2 = data        # 원본 값 수정O\n",
        "data3 = data[:]     # 원본 값 수정X\n",
        "data2[0] = 100\n",
        "data3[0] = 200\n",
        "data, data2, data3"
      ],
      "metadata": {
        "id": "0ouSbmc0XAk7"
      },
      "execution_count": null,
      "outputs": []
    },
    {
      "cell_type": "code",
      "source": [
        "[1, 2, 3] + [1, 2, 3]"
      ],
      "metadata": {
        "id": "OE5GkCaOYLlk"
      },
      "execution_count": null,
      "outputs": []
    },
    {
      "cell_type": "code",
      "source": [
        "[1, 2, 3] * 2"
      ],
      "metadata": {
        "id": "bYjyG0mWYQLY"
      },
      "execution_count": null,
      "outputs": []
    },
    {
      "cell_type": "markdown",
      "source": [
        "* **참고**"
      ],
      "metadata": {
        "id": "pgPsUM8VbEIS"
      }
    },
    {
      "cell_type": "code",
      "source": [
        "# 이렇게 리스트 생성하지 말자.\n",
        "x = [[[10]*3]*3]*4 \n",
        "x[0][0][0] = 100\n",
        "x, id(x[0][0][0]), id(x[0][1][0]),id(x[1][2][0]) # 주소값이 공유됨"
      ],
      "metadata": {
        "id": "iVfAKoK1Y0E7"
      },
      "execution_count": null,
      "outputs": []
    },
    {
      "cell_type": "markdown",
      "source": [
        "## **method**"
      ],
      "metadata": {
        "id": "hrrRDfmfbHzc"
      }
    },
    {
      "cell_type": "code",
      "source": [
        "## list method ##\n",
        "'append','clear','copy','count','extend',\n",
        "'index','insert','pop','remove','reverse','sort'"
      ],
      "metadata": {
        "id": "WrJ14Q7SbM-w"
      },
      "execution_count": null,
      "outputs": []
    },
    {
      "cell_type": "markdown",
      "source": [
        "* append(), extend()\n",
        "* pop(), remove()"
      ],
      "metadata": {
        "id": "H3UwuNGa5IoH"
      }
    },
    {
      "cell_type": "code",
      "source": [
        "## append method ##\n",
        "l = [10, 20, 30, 40, 10, 10, 10]\n",
        "l.append([1,2,3,4,5])   # 형식 그대로 추가\n",
        "l"
      ],
      "metadata": {
        "id": "HyMmlp1_ZquR"
      },
      "execution_count": null,
      "outputs": []
    },
    {
      "cell_type": "code",
      "source": [
        "## extend method ##\n",
        "l = [10, 20, 30, 40, 10, 10, 10]\n",
        "l.extend([1,2,3,4,5])   # 원본 형식에 맞춰서 추가됨\n",
        "l.extend((6,7,8,9,10))   \n",
        "l.extend({11,12,13,14,15})\n",
        "l"
      ],
      "metadata": {
        "id": "uEft-2z7d0LG"
      },
      "execution_count": null,
      "outputs": []
    },
    {
      "cell_type": "code",
      "source": [
        "## pop method ##\n",
        "l = [10, 20, 30, 40]\n",
        "l.pop()     # 맨 뒤에 값 삭제\n",
        "l.pop(0)    # 맨 앞에 값 삭제\n",
        "l"
      ],
      "metadata": {
        "id": "qsbq-Uw6Z8NA"
      },
      "execution_count": null,
      "outputs": []
    },
    {
      "cell_type": "code",
      "source": [
        "## remove method ##\n",
        "l = [10, 20, 1000, 30, 40, 10, 10, 10]\n",
        "# l.remove()    # error\n",
        "l.remove(10)    # 첫번째 값 지움\n",
        "l.remove(10)\n",
        "l"
      ],
      "metadata": {
        "id": "B5H3y0f7eYRl"
      },
      "execution_count": null,
      "outputs": []
    },
    {
      "cell_type": "markdown",
      "source": [
        "* insert(), index()"
      ],
      "metadata": {
        "id": "XOubhhaw5PjJ"
      }
    },
    {
      "cell_type": "code",
      "source": [
        "## insert method ##\n",
        "l = [10, 20, 30, 40, 10, 10, 10]\n",
        "l.insert(2, 1000)\n",
        "l"
      ],
      "metadata": {
        "id": "pqIWYuzleHGQ"
      },
      "execution_count": null,
      "outputs": []
    },
    {
      "cell_type": "code",
      "source": [
        "## index method ##\n",
        "l = [10, 20, 1000, 30, 40, 10, 10, 10]\n",
        "l.index(1000)\n",
        "l.index(10)"
      ],
      "metadata": {
        "id": "814v97cBeRPT"
      },
      "execution_count": null,
      "outputs": []
    },
    {
      "cell_type": "code",
      "source": [
        "## clear method ##\n",
        "l = [10, 20, 30, 40]\n",
        "l.clear(50)\n",
        "l"
      ],
      "metadata": {
        "id": "JS4WqUThaJO5"
      },
      "execution_count": null,
      "outputs": []
    },
    {
      "cell_type": "code",
      "source": [
        "## copy method ##\n",
        "# slicing이 다 빠름\n",
        "l = [10, 20, 30, 40]\n",
        "data = l.copy()\n",
        "data[0] = 1000\n",
        "l, data"
      ],
      "metadata": {
        "id": "I8a6FBiKaWZN"
      },
      "execution_count": null,
      "outputs": []
    },
    {
      "cell_type": "code",
      "source": [
        "## count method ##\n",
        "l = [10, 20, 30, 40, 10, 10, 10]\n",
        "l.count(10)"
      ],
      "metadata": {
        "id": "xc6X8qPZdqJO"
      },
      "execution_count": null,
      "outputs": []
    },
    {
      "cell_type": "markdown",
      "source": [
        "* reverse()"
      ],
      "metadata": {
        "id": "i3jzDIcv5hag"
      }
    },
    {
      "cell_type": "code",
      "source": [
        "## reverse method ##\n",
        "l = [10, 20, 30, 10, 20, 30, 1, 2, 55, 11]\n",
        "l.reverse()  # l을 직접 만짐 -> 역 정렬이 아닌, 역순일 뿐임\n",
        "l\n",
        "\n",
        "l = [10, 20, 30, 10, 20, 30, 1, 2, 55, 11]\n",
        "list(reversed(l)), l    # l을 직접 만지지 않음"
      ],
      "metadata": {
        "id": "b0m436lTff8n"
      },
      "execution_count": null,
      "outputs": []
    },
    {
      "cell_type": "markdown",
      "source": [
        "* **★sort()**"
      ],
      "metadata": {
        "id": "a_1-P3xZ5q3C"
      }
    },
    {
      "cell_type": "code",
      "source": [
        "## sort method ##\n",
        "l = [10, 20, 30, 10, 20, 30, 1, 2, 55, 11]\n",
        "l.sort()\n",
        "l\n",
        "\n",
        "l = [10, 20, 30, 10, 20, 30, 1, 2, 55, 11]\n",
        "l.sort()\n",
        "l.reverse() # sort와 함께 사용했으니 역정렬\n",
        "l\n",
        "\n",
        "l = [10, 20, 30, 10, 20, 30, 1, 2, 55, 11]\n",
        "list(sorted(l)), l  # l을 직접 만지지 않음"
      ],
      "metadata": {
        "id": "6m07Sl3_g9Nd"
      },
      "execution_count": null,
      "outputs": []
    },
    {
      "cell_type": "code",
      "source": [
        "l = [10, 20, 30, 10, 20, 30, 1, 2, 55, 11]\n",
        "print(list(sorted(l, reverse = True)))  # 내림차순"
      ],
      "metadata": {
        "id": "W2othB6wk6HH"
      },
      "execution_count": null,
      "outputs": []
    },
    {
      "cell_type": "code",
      "source": [
        "l = [[1, 10, 'DASchool-1'], \n",
        "     [20, 30, 'seoyoung'], \n",
        "     [10, 20, 'github'], \n",
        "     [1, 2, 'python'], \n",
        "     [55, 11, 'moon']]\n",
        "\n",
        "# 1. 글자 수 대로 정렬해주세요.\n",
        "def 함수(x):\n",
        "    return len(x[2])\n",
        "\n",
        "print('1. 글자 수 대로 정렬해주세요.')\n",
        "print(list(sorted(l, key = 함수)))\n",
        "print(list(sorted(l, key = lambda x : len(x[2]))))\n",
        "print()\n",
        "\n",
        "# 2. 맨 앞에 위치한 숫자대로 정렬해주세요.\n",
        "def 함수2(x):\n",
        "    return x[0]\n",
        "\n",
        "print('2. 맨 앞에 위치한 숫자대로 정렬해주세요.')\n",
        "print(list(sorted(l, key = 함수2)))\n",
        "print(list(sorted(l, key = lambda x : x[0])))\n",
        "print()\n",
        "\n",
        "# 3. 중앙에 위치한 값대로 정렬해주세요.\n",
        "def 함수3(x):\n",
        "    return x[1]\n",
        "\n",
        "print('3. 중앙에 위치한 값대로 정렬해주세요.')\n",
        "print(list(sorted(l, key = 함수3)))\n",
        "print(list(sorted(l, key = lambda x : x[1])))\n",
        "print()"
      ],
      "metadata": {
        "id": "SsJJUZn1ie4d"
      },
      "execution_count": null,
      "outputs": []
    },
    {
      "cell_type": "code",
      "source": [
        "l = [[1, 10, 32], \n",
        "     [20, 30, 11], \n",
        "     [10, 20, 22], \n",
        "     [1, 2, 13], \n",
        "     [55, 11, 44]]\n",
        "\n",
        "# 4. 3개의 전체 합대로 출력해주세요.\n",
        "def 함수4(x):\n",
        "    return sum(x)\n",
        "\n",
        "print('4. 3개의 전체 합대로 출력해주세요.')\n",
        "print(list(sorted(l, key = 함수4)))\n",
        "print(list(sorted(l, key = lambda x : sum(x))))\n",
        "print(list(sorted(l, key = sum)))"
      ],
      "metadata": {
        "id": "3-CYItbplMBU"
      },
      "execution_count": null,
      "outputs": []
    },
    {
      "cell_type": "markdown",
      "source": [
        "* **참고**"
      ],
      "metadata": {
        "id": "hfooTZRc4TyI"
      }
    },
    {
      "cell_type": "code",
      "source": [
        "# 실무에서 많이 사용하는 코드\n",
        "# 어떤 값을 찾아내거나, 조건에 맞는 코드를 추출할 때 사용한다.\n",
        "def 함수(x):\n",
        "    return x != 10\n",
        "\n",
        "l = [10, 20, 1000, 30, 40, 10, 10, 10]\n",
        "list(filter(함수, l))\n",
        "# list(filter(lambda x : x != 10, l))"
      ],
      "metadata": {
        "id": "JcY0gh2yeofW"
      },
      "execution_count": null,
      "outputs": []
    },
    {
      "cell_type": "code",
      "source": [
        "## deepcopy method ##\n",
        "import copy\n",
        "\n",
        "# 1\n",
        "a = [1, 2, 3]\n",
        "b = copy.deepcopy(a)\n",
        "c = copy.deepcopy(b)\n",
        "print(a, b, c)\n",
        "\n",
        "print(id(a) == id(b))       # False\n",
        "print(id(a[0]) == id(b[0])) # True -> 이유: 컨벤션 자료형이 아닌 것은 값의 id가 같음\n",
        "\n",
        "# 2\n",
        "a = [[1, 2, 3], 2, 3]\n",
        "b = copy.deepcopy(a)\n",
        "c = copy.deepcopy(b)\n",
        "print(a, b, c)\n",
        "\n",
        "print(id(a) == id(b))       # False\n",
        "print(id(a[0]) == id(b[0])) # False -> 이유: 리스트 같은 컨벤션 자료형은 값의 id가 다름"
      ],
      "metadata": {
        "id": "9IBlXPmDUVxY"
      },
      "execution_count": null,
      "outputs": []
    },
    {
      "cell_type": "markdown",
      "source": [
        "# ***CH4-2. tuple (튜플)***"
      ],
      "metadata": {
        "id": "Ie7zVZSnp87j"
      }
    },
    {
      "cell_type": "markdown",
      "source": [
        "# ***CH4-4. set (셋)***"
      ],
      "metadata": {
        "id": "4qeGKuYgqCkp"
      }
    },
    {
      "cell_type": "markdown",
      "source": [
        "# ***CH4-3. dict (딕셔너리)***"
      ],
      "metadata": {
        "id": "MIGRuMMoqFSP"
      }
    },
    {
      "cell_type": "markdown",
      "source": [
        "# **ㅡㅡㅡㅡChapter 5ㅡㅡㅡㅡ**"
      ],
      "metadata": {
        "id": "PWp5XVXOABLi"
      }
    },
    {
      "cell_type": "markdown",
      "source": [
        "# **ㅡㅡㅡㅡChapter 6ㅡㅡㅡㅡ**"
      ],
      "metadata": {
        "id": "4xDMrJnSADHz"
      }
    },
    {
      "cell_type": "markdown",
      "source": [
        "# **ㅡㅡㅡㅡChapter 7ㅡㅡㅡㅡ**"
      ],
      "metadata": {
        "id": "eoFK1LD_AEqI"
      }
    }
  ]
}